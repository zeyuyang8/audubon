{
 "cells": [
  {
   "cell_type": "code",
   "execution_count": 10,
   "metadata": {},
   "outputs": [],
   "source": [
    "\"\"\"\n",
    "Solution for D2K Audubon project\n",
    "\n",
    "Create images for bird detection\n",
    "\"\"\"\n",
    "\n",
    "import numpy as np\n",
    "import utils.data_processing as dp\n",
    "import utils.data_vis as vis\n",
    "from utils.global_const import *"
   ]
  },
  {
   "cell_type": "code",
   "execution_count": 11,
   "metadata": {},
   "outputs": [],
   "source": [
    "#######################################################################################\n",
    "# Part 1 - Data processing\n",
    "\n",
    "def test_get_file_names():\n",
    "    ''' Test get_file_names() '''\n",
    "    csv_files = dp.get_file_names(DATA_PATH + 'raw/', 'csv')\n",
    "    jpg_files = dp.get_file_names(DATA_PATH + 'raw/', 'jpg')\n",
    "    FILES['dataset'] = {'jpg': jpg_files, 'csv': csv_files}\n",
    "\n",
    "test_get_file_names()"
   ]
  },
  {
   "cell_type": "code",
   "execution_count": 12,
   "metadata": {},
   "outputs": [],
   "source": [
    "def test_csv_to_df():\n",
    "    ''' Test csv_to_df() '''\n",
    "    file_name = FILES['dataset']['csv'][0]\n",
    "    data_df = dp.csv_to_df(file_name, COL_NAMES)\n",
    "    # print(data_df)\n",
    "    \n",
    "test_csv_to_df()"
   ]
  },
  {
   "cell_type": "code",
   "execution_count": 13,
   "metadata": {},
   "outputs": [],
   "source": [
    "def test_concat_frames():\n",
    "    ''' Test concat_frames() ''' \n",
    "    concated_frame =  dp.concat_frames(FILES['dataset']['csv'], COL_NAMES)\n",
    "    # print(concated_frame)\n",
    "\n",
    "test_concat_frames()"
   ]
  },
  {
   "cell_type": "code",
   "execution_count": 14,
   "metadata": {},
   "outputs": [],
   "source": [
    "def test_add_col():\n",
    "    ''' Test add_col() '''\n",
    "    values_dict = {}\n",
    "    for key, vals in GROUPS.items():\n",
    "        for val in vals:\n",
    "            values_dict[val] = key\n",
    "    frame = dp.concat_frames(FILES['dataset']['csv'], COL_NAMES)\n",
    "    FRAMES['combined annotations'] = dp.add_col(frame, 'group_id', 'class_id', values_dict)\n",
    "    # print(FRAMES['combined annotations'])\n",
    "\n",
    "test_add_col()"
   ]
  },
  {
   "cell_type": "code",
   "execution_count": 15,
   "metadata": {},
   "outputs": [],
   "source": [
    "def test_read_jpg():\n",
    "    ''' test read_jpg() '''\n",
    "    file_name = FILES['dataset']['jpg'][0]\n",
    "    dp.read_jpg(file_name)\n",
    "\n",
    "test_read_jpg()"
   ]
  },
  {
   "cell_type": "code",
   "execution_count": 16,
   "metadata": {},
   "outputs": [],
   "source": [
    "#######################################################################################\n",
    "# Part 2 - Data visualization\n",
    "\n",
    "def test_plot_distribution():\n",
    "    ''' Test plot_distribution() ''' \n",
    "    vis.plot_distribution(FRAMES['combined annotations'], \"class_id\", \n",
    "                          (\"Frequency\", \"Bird Species\", \"Bird Species Distribution\"), PLOTS_PATH, filt=100)\n",
    "    vis.plot_distribution(FRAMES['combined annotations'], \"group_id\", \n",
    "                          (\"Frequency\", \"Bird Group\", \"Bird Group Distribution\"), PLOTS_PATH)\n",
    "    vis.plot_distribution(FRAMES['combined annotations'].loc[FRAMES['combined annotations']['group_id'] == 'BRPE'], \"class_id\", \n",
    "                          (\"Frequency\", \"Bird Species\", \"BRPE Bird Species Distribution\"), PLOTS_PATH)\n",
    "    vis.plot_distribution(FRAMES['combined annotations'].loc[FRAMES['combined annotations']['group_id'] == 'LGHT'], \"class_id\", \n",
    "                          (\"Frequency\", \"Bird Species\", \"LGHT Bird Species Distribution\"), PLOTS_PATH)            \n",
    "\n",
    "# test_plot_distribution()"
   ]
  },
  {
   "cell_type": "code",
   "execution_count": 17,
   "metadata": {},
   "outputs": [],
   "source": [
    "def test_plot_boxes():\n",
    "    ''' Test plot_boxes() ''' \n",
    "    vis.plot_boxes(FILES['dataset']['jpg'][10], FILES['dataset']['csv'][10], 'Annonations', PLOTS_PATH)\n",
    "\n",
    "# test_plot_boxes()"
   ]
  },
  {
   "cell_type": "code",
   "execution_count": 18,
   "metadata": {},
   "outputs": [],
   "source": [
    "#######################################################################################\n",
    "# Part 3 - Dataloader\n",
    "\n",
    "# Split the dataset into trainset, testset, and valset\n",
    "def test_split_img_annos():\n",
    "    ''' Test split_img_annos() '''\n",
    "    FILES['trainset'], FILES['testset'], FILES['valset'] = dp.split_img_annos(\n",
    "        FILES['dataset']['jpg'], FILES['dataset']['csv'], (0.8, 0.1, 0.1), seed=2023)\n",
    "\n",
    "test_split_img_annos()"
   ]
  },
  {
   "cell_type": "code",
   "execution_count": 19,
   "metadata": {},
   "outputs": [],
   "source": [
    "# cropping\n",
    "# Make a dataloader\n",
    "# Train a model\n",
    "# Evaluate the model"
   ]
  },
  {
   "cell_type": "code",
   "execution_count": 22,
   "metadata": {},
   "outputs": [
    {
     "data": {
      "text/plain": [
       "tensor([1, 1, 1, 1, 1, 1, 1, 1, 1, 1])"
      ]
     },
     "execution_count": 22,
     "metadata": {},
     "output_type": "execute_result"
    }
   ],
   "source": [
    "import torch\n",
    "\n",
    "torch.ones((10,), dtype=torch.int64)"
   ]
  },
  {
   "cell_type": "code",
   "execution_count": null,
   "metadata": {},
   "outputs": [],
   "source": []
  }
 ],
 "metadata": {
  "kernelspec": {
   "display_name": "audubon",
   "language": "python",
   "name": "python3"
  },
  "language_info": {
   "codemirror_mode": {
    "name": "ipython",
    "version": 3
   },
   "file_extension": ".py",
   "mimetype": "text/x-python",
   "name": "python",
   "nbconvert_exporter": "python",
   "pygments_lexer": "ipython3",
   "version": "3.8.16"
  },
  "orig_nbformat": 4,
  "vscode": {
   "interpreter": {
    "hash": "46beb778c8128495c73591d54954c8f1640826ad496c7f102ebbefec3a7b29b4"
   }
  }
 },
 "nbformat": 4,
 "nbformat_minor": 2
}
